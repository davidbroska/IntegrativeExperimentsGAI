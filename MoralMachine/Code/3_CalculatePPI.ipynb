{
 "cells": [
  {
   "cell_type": "code",
   "execution_count": 2,
   "metadata": {},
   "outputs": [
    {
     "name": "stderr",
     "output_type": "stream",
     "text": [
      "/var/folders/md/0h30crhs7xb714g8zy7dzj1m0000gn/T/ipykernel_18365/4181039959.py:1: DeprecationWarning: \n",
      "Pyarrow will become a required dependency of pandas in the next major release of pandas (pandas 3.0),\n",
      "(to allow more performant data types, such as the Arrow string type, and better interoperability with other libraries)\n",
      "but was not found to be installed on your system.\n",
      "If this would cause problems for you,\n",
      "please provide us feedback at https://github.com/pandas-dev/pandas/issues/54466\n",
      "        \n",
      "  import pandas as pd\n"
     ]
    }
   ],
   "source": [
    "import pandas as pd\n",
    "import numpy as np\n",
    "from ppi_py import ppi_ols_ci, classical_ols_ci, ppi_ols_pointestimate"
   ]
  },
  {
   "cell_type": "code",
   "execution_count": 3,
   "metadata": {},
   "outputs": [
    {
     "data": {
      "text/plain": [
       "(17013, 32)"
      ]
     },
     "execution_count": 3,
     "metadata": {},
     "output_type": "execute_result"
    }
   ],
   "source": [
    "df1 = pd.read_csv(\"https://raw.githubusercontent.com/davidbroska/IntegrativeExperimentsGAI/main/Data/JoinedAwadTakemoto/Joined_GPT4.csv\")\n",
    "df1.shape\n",
    "df = df1.dropna()\n",
    "df.shape"
   ]
  },
  {
   "cell_type": "code",
   "execution_count": 4,
   "metadata": {},
   "outputs": [],
   "source": [
    "def calc_ci(var, n, N):\n",
    "  \"\"\"\n",
    "\n",
    "  Args:\n",
    "      var: The name of the variable.\n",
    "      n: The sample size of the human responses.\n",
    "      N: The sample size of the responses predicted by the algorithm.\n",
    "\n",
    "  Returns:\n",
    "      A pandas DataFrame with the following columns:\n",
    "        * var: The name of the variable.\n",
    "        * n: The sample size.\n",
    "        * N: The population size.\n",
    "        * lower_CI_ppi: The lower bound of the PPI confidence interval.\n",
    "        * upper_CI_ppi: The upper bound of the PPI confidence interval.\n",
    "        * lower_CI_ols: The lower bound of the OLS confidence interval.\n",
    "        * upper_CI_ols: The upper bound of the OLS confidence interval.\n",
    "  \"\"\"\n",
    "\n",
    "  seed = 123\n",
    "\n",
    "  sub_df = df.sample(n+N, random_state=seed, ignore_index=True)\n",
    "  df_people = sub_df.iloc[:n]\n",
    "  df_gpt = sub_df.iloc[n:]\n",
    "\n",
    "  Xn = np.ones((n,2))\n",
    "  Xn[:,1] = df_people[var]\n",
    "  Yn_ppl = df_people['Saved'].to_numpy()\n",
    "  Yn_gpt = df_people['SavedGPT4'].to_numpy()\n",
    "\n",
    "  XN = np.ones((N,2))\n",
    "  XN[:,1] = df_gpt[var]\n",
    "  YN_gpt = df_gpt['SavedGPT4'].to_numpy()\n",
    "\n",
    "  lower_CI_ppi, upper_CI_ppi = ppi_ols_ci(Xn, Yn_ppl, Yn_gpt, XN, YN_gpt)\n",
    "  lower_CI_ols, upper_CI_ols = classical_ols_ci(Xn, Yn_ppl)\n",
    "\n",
    "  # Create and return the output DataFrame\n",
    "  output_df = pd.DataFrame({\n",
    "      \"var\": var,\n",
    "      \"n\": n,\n",
    "      \"N\": N,\n",
    "      \"lower_CI_ppi\": lower_CI_ppi[1],\n",
    "      \"upper_CI_ppi\": upper_CI_ppi[1],\n",
    "      \"lower_CI_ols\": lower_CI_ols[1],\n",
    "      \"upper_CI_ols\": upper_CI_ols[1]}, index=[0])\n",
    "  return output_df"
   ]
  },
  {
   "cell_type": "code",
   "execution_count": 6,
   "metadata": {},
   "outputs": [
    {
     "name": "stdout",
     "output_type": "stream",
     "text": [
      "Iterating over the variable: Barrier\n",
      "Iterating over the variable: CrossingSignal\n",
      "Iterating over the variable: NumberOfCharacters\n",
      "Iterating over the variable: DiffNumberOFCharacters\n",
      "Iterating over the variable: LeftHand\n",
      "Iterating over the variable: Man\n",
      "Iterating over the variable: Woman\n",
      "Iterating over the variable: Pregnant\n",
      "Iterating over the variable: Stroller\n",
      "Iterating over the variable: OldMan\n",
      "Iterating over the variable: OldWoman\n",
      "Iterating over the variable: Boy\n",
      "Iterating over the variable: Girl\n",
      "Iterating over the variable: Homeless\n",
      "Iterating over the variable: LargeWoman\n",
      "Iterating over the variable: LargeMan\n",
      "Iterating over the variable: Criminal\n",
      "Iterating over the variable: MaleExecutive\n",
      "Iterating over the variable: FemaleExecutive\n",
      "Iterating over the variable: FemaleAthlete\n",
      "Iterating over the variable: MaleAthlete\n",
      "Iterating over the variable: FemaleDoctor\n",
      "Iterating over the variable: MaleDoctor\n",
      "Iterating over the variable: Dog\n",
      "Iterating over the variable: Cat\n",
      "Iterating over the variable: Intervention\n"
     ]
    }
   ],
   "source": [
    "Covs = ['PedPed', 'Barrier', 'CrossingSignal', 'NumberOfCharacters',\n",
    "        'DiffNumberOFCharacters', 'LeftHand', 'Man', 'Woman', 'Pregnant',\n",
    "        'Stroller', 'OldMan', 'OldWoman', 'Boy', 'Girl', 'Homeless',\n",
    "        'LargeWoman', 'LargeMan', 'Criminal', 'MaleExecutive',\n",
    "        'FemaleExecutive', 'FemaleAthlete', 'MaleAthlete', 'FemaleDoctor',\n",
    "        'MaleDoctor', 'Dog', 'Cat', 'Intervention']\n",
    "result = pd.DataFrame()\n",
    "\n",
    "for var in range(1,len(Covs)):\n",
    "  print(f\"Iterating over the variable: {Covs[var]}\")\n",
    "\n",
    "  for n in range(50, 10**3+1, 50):\n",
    "    #print(f\"Iterating over the human sample size: {n}\")\n",
    "\n",
    "    for N in range(500, 10**4+1, 500):\n",
    "\n",
    "      result = pd.concat([result, calc_ci(Covs[var], n, N)])"
   ]
  },
  {
   "cell_type": "code",
   "execution_count": 8,
   "metadata": {},
   "outputs": [],
   "source": [
    "# Define the filename and path\n",
    "filename = '3_result.csv'\n",
    "\n",
    "# Export the DataFrame to a CSV file\n",
    "with open(filename, 'w', newline='') as f:\n",
    "    result.to_csv(f)"
   ]
  },
  {
   "cell_type": "code",
   "execution_count": null,
   "metadata": {},
   "outputs": [],
   "source": []
  }
 ],
 "metadata": {
  "kernelspec": {
   "display_name": "Python 3",
   "language": "python",
   "name": "python3"
  },
  "language_info": {
   "codemirror_mode": {
    "name": "ipython",
    "version": 3
   },
   "file_extension": ".py",
   "mimetype": "text/x-python",
   "name": "python",
   "nbconvert_exporter": "python",
   "pygments_lexer": "ipython3",
   "version": "3.11.4"
  }
 },
 "nbformat": 4,
 "nbformat_minor": 2
}
